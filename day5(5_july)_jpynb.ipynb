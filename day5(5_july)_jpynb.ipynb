{
  "nbformat": 4,
  "nbformat_minor": 0,
  "metadata": {
    "colab": {
      "name": "day5(5-july).jpynb",
      "version": "0.3.2",
      "provenance": [],
      "include_colab_link": true
    },
    "kernelspec": {
      "name": "python3",
      "display_name": "Python 3"
    }
  },
  "cells": [
    {
      "cell_type": "markdown",
      "metadata": {
        "id": "view-in-github",
        "colab_type": "text"
      },
      "source": [
        "<a href=\"https://colab.research.google.com/github/vamshi221810401032/python/blob/master/day5(5_july)_jpynb.ipynb\" target=\"_parent\"><img src=\"https://colab.research.google.com/assets/colab-badge.svg\" alt=\"Open In Colab\"/></a>"
      ]
    },
    {
      "cell_type": "code",
      "metadata": {
        "id": "5XkmJlprvjf0",
        "colab_type": "code",
        "colab": {}
      },
      "source": [
        ""
      ],
      "execution_count": 0,
      "outputs": []
    },
    {
      "cell_type": "markdown",
      "metadata": {
        "id": "5PSn2hMBzStr",
        "colab_type": "text"
      },
      "source": [
        "#markdown basics\n",
        "##markdown basics\n",
        "###markdown basics\n",
        "* ***point3(bold and italic)\n",
        "\n",
        "* normal text \n",
        "* sublist1\n",
        "* sublist2\n",
        "\n",
        "\n",
        "> 1. point1\n",
        "> 2.point2\n",
        "\n",
        "* ***adding links to markdown***\n",
        "* google sites - -\n",
        "*msn site  - -\n",
        "- []option 1\n",
        "print(\"hello\")\n",
        "\n"
      ]
    },
    {
      "cell_type": "code",
      "metadata": {
        "id": "bCb5klhc5fv2",
        "colab_type": "code",
        "outputId": "4640b902-1013-4401-d0ad-10fbec51959e",
        "colab": {
          "base_uri": "https://localhost:8080/",
          "height": 34
        }
      },
      "source": [
        "print(\"hello\")\n"
      ],
      "execution_count": 0,
      "outputs": [
        {
          "output_type": "stream",
          "text": [
            "hello\n"
          ],
          "name": "stdout"
        }
      ]
    },
    {
      "cell_type": "code",
      "metadata": {
        "id": "il402pof6L_i",
        "colab_type": "code",
        "outputId": "a6c4ece2-226f-4251-dc7f-09cb3e1be151",
        "colab": {
          "base_uri": "https://localhost:8080/",
          "height": 34
        }
      },
      "source": [
        "print(\"gitam university\")\n"
      ],
      "execution_count": 0,
      "outputs": [
        {
          "output_type": "stream",
          "text": [
            "gitam university\n"
          ],
          "name": "stdout"
        }
      ]
    },
    {
      "cell_type": "code",
      "metadata": {
        "id": "Txdpt_uM6vJr",
        "colab_type": "code",
        "outputId": "5bd477e1-dcf9-41ba-9c8c-ad07ec72f952",
        "colab": {
          "base_uri": "https://localhost:8080/",
          "height": 51
        }
      },
      "source": [
        "n1=100\n",
        "a=b=c=146\n",
        "print(n1)\n",
        "print(a,b,c)\n"
      ],
      "execution_count": 0,
      "outputs": [
        {
          "output_type": "stream",
          "text": [
            "100\n",
            "146 146 146\n"
          ],
          "name": "stdout"
        }
      ]
    },
    {
      "cell_type": "code",
      "metadata": {
        "id": "NYI0eJPu_G_X",
        "colab_type": "code",
        "outputId": "b2f016b6-af35-4c47-fe71-65a1aea865ac",
        "colab": {
          "base_uri": "https://localhost:8080/",
          "height": 34
        }
      },
      "source": [
        "a=100;\n",
        "s1='python'\n",
        "s2='p'\n",
        "f1=10.2\n",
        "print(a,s1,s2,f1)\n"
      ],
      "execution_count": 0,
      "outputs": [
        {
          "output_type": "stream",
          "text": [
            "100 python p 10.2\n"
          ],
          "name": "stdout"
        }
      ]
    },
    {
      "cell_type": "code",
      "metadata": {
        "id": "AwQejRROXP1m",
        "colab_type": "code",
        "colab": {
          "base_uri": "https://localhost:8080/",
          "height": 34
        },
        "outputId": "18112e03-6e8b-4f7a-8347-9b357109e48a"
      },
      "source": [
        "a1=1234\n",
        "print(len(str(a1)))\n"
      ],
      "execution_count": 21,
      "outputs": [
        {
          "output_type": "stream",
          "text": [
            "4\n"
          ],
          "name": "stdout"
        }
      ]
    },
    {
      "cell_type": "code",
      "metadata": {
        "id": "v9I1-Da_XtXx",
        "colab_type": "code",
        "colab": {
          "base_uri": "https://localhost:8080/",
          "height": 68
        },
        "outputId": "5271e4e6-1af4-4d9b-c60c-7b211866c795"
      },
      "source": [
        "s1=input(\"name please\")\n",
        "print(s1)\n",
        "print(type(s1))\n"
      ],
      "execution_count": 23,
      "outputs": [
        {
          "output_type": "stream",
          "text": [
            "name pleasevamshi\n",
            "vamshi\n",
            "<class 'str'>\n"
          ],
          "name": "stdout"
        }
      ]
    },
    {
      "cell_type": "code",
      "metadata": {
        "id": "O4_rFwLnY4_V",
        "colab_type": "code",
        "colab": {
          "base_uri": "https://localhost:8080/",
          "height": 51
        },
        "outputId": "9f486d9f-b03a-4e2b-f42c-5fc2f5522428"
      },
      "source": [
        "n1=int(input(\"enter name\"))\n",
        "print(n1,type((n1)))"
      ],
      "execution_count": 26,
      "outputs": [
        {
          "output_type": "stream",
          "text": [
            "enter name125\n",
            "125 <class 'int'>\n"
          ],
          "name": "stdout"
        }
      ]
    },
    {
      "cell_type": "markdown",
      "metadata": {
        "id": "wKGtzAewfriq",
        "colab_type": "text"
      },
      "source": [
        "### relational operators\n",
        "* ==\n",
        "* [=\n",
        "* Greater(>)\n",
        "*less than(<)\n",
        "*less than or equal to(<=)\n",
        "*greater than or equal to(>=)   "
      ]
    },
    {
      "cell_type": "code",
      "metadata": {
        "id": "2fYdn77qlJWL",
        "colab_type": "code",
        "colab": {
          "base_uri": "https://localhost:8080/",
          "height": 51
        },
        "outputId": "db20ee0d-a800-4dfd-a7bd-dbe7d24e0d51"
      },
      "source": [
        "i=100\n",
        "a1 = (i>15) and (i<800)\n",
        "a2 = (i>15) and (i>800)\n",
        "print(a1) \n",
        "print(a2)"
      ],
      "execution_count": 30,
      "outputs": [
        {
          "output_type": "stream",
          "text": [
            "True\n",
            "False\n"
          ],
          "name": "stdout"
        }
      ]
    },
    {
      "cell_type": "code",
      "metadata": {
        "id": "DrEAQaETnom8",
        "colab_type": "code",
        "colab": {}
      },
      "source": [
        "n=int(input(\"\")"
      ],
      "execution_count": 0,
      "outputs": []
    }
  ]
}