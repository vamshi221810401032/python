{
  "nbformat": 4,
  "nbformat_minor": 0,
  "metadata": {
    "colab": {
      "name": "Copy of day5(5-july).jpynb",
      "version": "0.3.2",
      "provenance": [],
      "include_colab_link": true
    },
    "kernelspec": {
      "name": "python3",
      "display_name": "Python 3"
    }
  },
  "cells": [
    {
      "cell_type": "markdown",
      "metadata": {
        "id": "view-in-github",
        "colab_type": "text"
      },
      "source": [
        "<a href=\"https://colab.research.google.com/github/vamshi221810401032/python/blob/master/Copy_of_day5(5_july)_jpynb.ipynb\" target=\"_parent\"><img src=\"https://colab.research.google.com/assets/colab-badge.svg\" alt=\"Open In Colab\"/></a>"
      ]
    },
    {
      "cell_type": "code",
      "metadata": {
        "id": "5XkmJlprvjf0",
        "colab_type": "code",
        "colab": {}
      },
      "source": [
        ""
      ],
      "execution_count": 0,
      "outputs": []
    },
    {
      "cell_type": "markdown",
      "metadata": {
        "id": "5PSn2hMBzStr",
        "colab_type": "text"
      },
      "source": [
        "#markdown basics\n",
        "##markdown basics\n",
        "###markdown basics\n",
        "* ***point3(bold and italic)\n",
        "\n",
        "* normal text \n",
        "* sublist1\n",
        "* sublist2\n",
        "\n",
        "\n",
        "> 1. point1\n",
        "> 2.point2\n",
        "\n",
        "* ***adding links to markdown***\n",
        "* google sites - -\n",
        "*msn site  - -\n",
        "- []option 1\n",
        "print(\"hello\")\n",
        "\n"
      ]
    },
    {
      "cell_type": "code",
      "metadata": {
        "id": "bCb5klhc5fv2",
        "colab_type": "code",
        "outputId": "4640b902-1013-4401-d0ad-10fbec51959e",
        "colab": {
          "base_uri": "https://localhost:8080/",
          "height": 34
        }
      },
      "source": [
        "print(\"hello\")\n"
      ],
      "execution_count": 0,
      "outputs": [
        {
          "output_type": "stream",
          "text": [
            "hello\n"
          ],
          "name": "stdout"
        }
      ]
    },
    {
      "cell_type": "code",
      "metadata": {
        "id": "il402pof6L_i",
        "colab_type": "code",
        "outputId": "a6c4ece2-226f-4251-dc7f-09cb3e1be151",
        "colab": {
          "base_uri": "https://localhost:8080/",
          "height": 34
        }
      },
      "source": [
        "print(\"gitam university\")\n"
      ],
      "execution_count": 0,
      "outputs": [
        {
          "output_type": "stream",
          "text": [
            "gitam university\n"
          ],
          "name": "stdout"
        }
      ]
    },
    {
      "cell_type": "code",
      "metadata": {
        "id": "Txdpt_uM6vJr",
        "colab_type": "code",
        "outputId": "5bd477e1-dcf9-41ba-9c8c-ad07ec72f952",
        "colab": {
          "base_uri": "https://localhost:8080/",
          "height": 51
        }
      },
      "source": [
        "n1=100\n",
        "a=b=c=146\n",
        "print(n1)\n",
        "print(a,b,c)\n"
      ],
      "execution_count": 0,
      "outputs": [
        {
          "output_type": "stream",
          "text": [
            "100\n",
            "146 146 146\n"
          ],
          "name": "stdout"
        }
      ]
    },
    {
      "cell_type": "code",
      "metadata": {
        "id": "NYI0eJPu_G_X",
        "colab_type": "code",
        "outputId": "b2f016b6-af35-4c47-fe71-65a1aea865ac",
        "colab": {
          "base_uri": "https://localhost:8080/",
          "height": 34
        }
      },
      "source": [
        "a=100;\n",
        "s1='python'\n",
        "s2='p'\n",
        "f1=10.2\n",
        "print(a,s1,s2,f1)\n"
      ],
      "execution_count": 0,
      "outputs": [
        {
          "output_type": "stream",
          "text": [
            "100 python p 10.2\n"
          ],
          "name": "stdout"
        }
      ]
    },
    {
      "cell_type": "code",
      "metadata": {
        "id": "w5hbsIi9_G17",
        "colab_type": "code",
        "colab": {}
      },
      "source": [
        ""
      ],
      "execution_count": 0,
      "outputs": []
    },
    {
      "cell_type": "code",
      "metadata": {
        "id": "DlisfFCO7sqP",
        "colab_type": "code",
        "colab": {}
      },
      "source": [
        ""
      ],
      "execution_count": 0,
      "outputs": []
    }
  ]
}