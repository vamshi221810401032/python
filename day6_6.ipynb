{
  "nbformat": 4,
  "nbformat_minor": 0,
  "metadata": {
    "colab": {
      "name": "day6/6.ipynb",
      "version": "0.3.2",
      "provenance": [],
      "include_colab_link": true
    },
    "kernelspec": {
      "name": "python3",
      "display_name": "Python 3"
    }
  },
  "cells": [
    {
      "cell_type": "markdown",
      "metadata": {
        "id": "view-in-github",
        "colab_type": "text"
      },
      "source": [
        "<a href=\"https://colab.research.google.com/github/vamshi221810401032/python/blob/master/day6_6.ipynb\" target=\"_parent\"><img src=\"https://colab.research.google.com/assets/colab-badge.svg\" alt=\"Open In Colab\"/></a>"
      ]
    },
    {
      "cell_type": "code",
      "metadata": {
        "id": "i1qxiGtO5ylB",
        "colab_type": "code",
        "colab": {
          "base_uri": "https://localhost:8080/",
          "height": 108
        },
        "outputId": "15c60549-03fb-4277-8d19-2130ebc4f6a9"
      },
      "source": [
        "print(\"Gitam\")\n",
        "print(\"Gitam\")\n",
        "print(\"Gitam\")\n",
        "print(\"Gitam\")\n",
        "print(\"Gitam\")"
      ],
      "execution_count": 1,
      "outputs": [
        {
          "output_type": "stream",
          "text": [
            "Gitam\n",
            "Gitam\n",
            "Gitam\n",
            "Gitam\n",
            "Gitam\n"
          ],
          "name": "stdout"
        }
      ]
    },
    {
      "cell_type": "code",
      "metadata": {
        "id": "hnfgCtnR6F2U",
        "colab_type": "code",
        "colab": {
          "base_uri": "https://localhost:8080/",
          "height": 108
        },
        "outputId": "de4e550d-5a99-4c36-d8c9-acffde240f7a"
      },
      "source": [
        "x = 0\n",
        "while x < 5 :\n",
        "    print(\"Gitam\")\n",
        "    x = x + 1"
      ],
      "execution_count": 2,
      "outputs": [
        {
          "output_type": "stream",
          "text": [
            "Gitam\n",
            "Gitam\n",
            "Gitam\n",
            "Gitam\n",
            "Gitam\n"
          ],
          "name": "stdout"
        }
      ]
    },
    {
      "cell_type": "code",
      "metadata": {
        "id": "m6WLal2J6NjX",
        "colab_type": "code",
        "colab": {
          "base_uri": "https://localhost:8080/",
          "height": 54
        },
        "outputId": "61eb19ff-781f-407b-917c-b1ad03b17698"
      },
      "source": [
        "n = int(input(\"Enter a Number\"))\n",
        "i = 1\n",
        "while i <= n : \n",
        "    print(i,end = \" \")\n",
        "    i = i + 1"
      ],
      "execution_count": 3,
      "outputs": [
        {
          "output_type": "stream",
          "text": [
            "Enter a Number10\n",
            "1 2 3 4 5 6 7 8 9 10 "
          ],
          "name": "stdout"
        }
      ]
    },
    {
      "cell_type": "code",
      "metadata": {
        "id": "KJZivLRT6XI_",
        "colab_type": "code",
        "colab": {
          "base_uri": "https://localhost:8080/",
          "height": 54
        },
        "outputId": "3f56a4f6-00b7-4db8-8294-baa73dd39ddc"
      },
      "source": [
        "n = int(input('Enter a Number '))\n",
        "i = 1\n",
        "sum = 0\n",
        "while i <= n:\n",
        "    if i % 2 == 0:\n",
        "        sum = sum + i\n",
        "    i = i + 1\n",
        "print(sum)    "
      ],
      "execution_count": 4,
      "outputs": [
        {
          "output_type": "stream",
          "text": [
            "Enter a Number 30\n",
            "240\n"
          ],
          "name": "stdout"
        }
      ]
    },
    {
      "cell_type": "code",
      "metadata": {
        "id": "2_fdD6-H6jA3",
        "colab_type": "code",
        "colab": {
          "base_uri": "https://localhost:8080/",
          "height": 54
        },
        "outputId": "4f8df9db-e7ee-487a-8ac2-6f2618e123a1"
      },
      "source": [
        "n = int(input('Enter a Number '))\n",
        "while n != 0:\n",
        "    r = n % 10\n",
        "    print(r,end = \" \")\n",
        "    n = n // 10\n",
        "    "
      ],
      "execution_count": 5,
      "outputs": [
        {
          "output_type": "stream",
          "text": [
            "Enter a Number 123\n",
            "3 2 1 "
          ],
          "name": "stdout"
        }
      ]
    },
    {
      "cell_type": "code",
      "metadata": {
        "id": "JCMs6vBA6ro0",
        "colab_type": "code",
        "colab": {
          "base_uri": "https://localhost:8080/",
          "height": 35
        },
        "outputId": "9bebcbc6-98e4-47d0-a7d0-e39ca9cb3989"
      },
      "source": [
        "def addEvenDigits(n):\n",
        "    sum = 0\n",
        "    while n != 0:\n",
        "        r = n % 10\n",
        "        if r % 2 == 0:\n",
        "            sum = sum + r\n",
        "        n = n // 10\n",
        "    print(sum)\n",
        "    return\n",
        "addEvenDigits(1234)  "
      ],
      "execution_count": 6,
      "outputs": [
        {
          "output_type": "stream",
          "text": [
            "6\n"
          ],
          "name": "stdout"
        }
      ]
    },
    {
      "cell_type": "code",
      "metadata": {
        "id": "aen1BLIl60Kd",
        "colab_type": "code",
        "colab": {
          "base_uri": "https://localhost:8080/",
          "height": 35
        },
        "outputId": "80f805f9-419e-424a-8bdd-089aa518d608"
      },
      "source": [
        "def printLarge(n) :\n",
        "    large = 0\n",
        "    while n != 0 :\n",
        "        r = n % 10\n",
        "        if large < r:\n",
        "            large = r\n",
        "        n = n // 10    \n",
        "    return large\n",
        "printLarge(19528)   "
      ],
      "execution_count": 7,
      "outputs": [
        {
          "output_type": "execute_result",
          "data": {
            "text/plain": [
              "9"
            ]
          },
          "metadata": {
            "tags": []
          },
          "execution_count": 7
        }
      ]
    },
    {
      "cell_type": "code",
      "metadata": {
        "id": "cTGN38xL7BL7",
        "colab_type": "code",
        "colab": {
          "base_uri": "https://localhost:8080/",
          "height": 54
        },
        "outputId": "a3655eb5-b20c-4ad8-cc34-3c2437c4cd13"
      },
      "source": [
        "def ispalindrome(n) :\n",
        "    rev = 0\n",
        "    buffer = n\n",
        "    while n != 0:\n",
        "        r = n % 10\n",
        "        rev = rev * 10 + r\n",
        "        n = n // 10\n",
        "    if buffer == rev:\n",
        "        return \"Yes\"\n",
        "    else:\n",
        "        return\"No\"\n",
        "print(ispalindrome(123))  \n",
        "print(ispalindrome(121))  "
      ],
      "execution_count": 8,
      "outputs": [
        {
          "output_type": "stream",
          "text": [
            "No\n",
            "Yes\n"
          ],
          "name": "stdout"
        }
      ]
    },
    {
      "cell_type": "code",
      "metadata": {
        "id": "FxAw5Vm47I5s",
        "colab_type": "code",
        "colab": {
          "base_uri": "https://localhost:8080/",
          "height": 35
        },
        "outputId": "a55b59db-2f5e-4f66-b826-00cb4e3a7912"
      },
      "source": [
        "def printSeries(lb,ub):\n",
        "    for x in range(lb,ub+1):\n",
        "        print(x,end=\" \")\n",
        "    return\n",
        "printSeries(11,25)"
      ],
      "execution_count": 9,
      "outputs": [
        {
          "output_type": "stream",
          "text": [
            "11 12 13 14 15 16 17 18 19 20 21 22 23 24 25 "
          ],
          "name": "stdout"
        }
      ]
    },
    {
      "cell_type": "code",
      "metadata": {
        "id": "jlCi1gwL7SXq",
        "colab_type": "code",
        "colab": {
          "base_uri": "https://localhost:8080/",
          "height": 35
        },
        "outputId": "0601ef73-0ee5-4f58-eeb7-7f0455253ced"
      },
      "source": [
        "def alternateNumbers(lb,ub):\n",
        "    for x in range(lb,ub+1,4):\n",
        "        print(x,end=\" \")\n",
        "    return\n",
        "alternateNumbers(100,150)    "
      ],
      "execution_count": 10,
      "outputs": [
        {
          "output_type": "stream",
          "text": [
            "100 104 108 112 116 120 124 128 132 136 140 144 148 "
          ],
          "name": "stdout"
        }
      ]
    }
  ]
}