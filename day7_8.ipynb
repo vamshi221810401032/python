{
  "nbformat": 4,
  "nbformat_minor": 0,
  "metadata": {
    "colab": {
      "name": "day7/8.ipynb",
      "version": "0.3.2",
      "provenance": [],
      "include_colab_link": true
    },
    "kernelspec": {
      "name": "python3",
      "display_name": "Python 3"
    }
  },
  "cells": [
    {
      "cell_type": "markdown",
      "metadata": {
        "id": "view-in-github",
        "colab_type": "text"
      },
      "source": [
        "<a href=\"https://colab.research.google.com/github/vamshi221810401032/python/blob/master/day7_8.ipynb\" target=\"_parent\"><img src=\"https://colab.research.google.com/assets/colab-badge.svg\" alt=\"Open In Colab\"/></a>"
      ]
    },
    {
      "cell_type": "code",
      "metadata": {
        "id": "AkpLouNY1T_I",
        "colab_type": "code",
        "outputId": "c173dc5b-7ef6-4280-8354-0b7a7b1efd31",
        "colab": {
          "base_uri": "https://localhost:8080/",
          "height": 35
        }
      },
      "source": [
        "def isPrime(n) :\n",
        "   flag = True\n",
        "   for i in range(2,n//2+1):\n",
        "       if n % i == 0:\n",
        "           flag = False\n",
        "           return flag\n",
        "   return flag\n",
        "isPrime(11) "
      ],
      "execution_count": 0,
      "outputs": [
        {
          "output_type": "execute_result",
          "data": {
            "text/plain": [
              "True"
            ]
          },
          "metadata": {
            "tags": []
          },
          "execution_count": 1
        }
      ]
    },
    {
      "cell_type": "code",
      "metadata": {
        "id": "gLi-GZ-_1uJY",
        "colab_type": "code",
        "outputId": "94e61861-7d14-4800-b6ef-0dce2ac008c6",
        "colab": {
          "base_uri": "https://localhost:8080/",
          "height": 35
        }
      },
      "source": [
        "def primeCount(n):\n",
        "   cnt = 0\n",
        "   for a in range(2,n+1):\n",
        "       k = 0\n",
        "       for i in range(2,a//2+1):\n",
        "           if a % i == 0:\n",
        "               k = k + 1\n",
        "       if(k<=0):\n",
        "           cnt = cnt + 1\n",
        "   return cnt\n",
        "primeCount(10)"
      ],
      "execution_count": 0,
      "outputs": [
        {
          "output_type": "execute_result",
          "data": {
            "text/plain": [
              "4"
            ]
          },
          "metadata": {
            "tags": []
          },
          "execution_count": 2
        }
      ]
    },
    {
      "cell_type": "code",
      "metadata": {
        "id": "qm-3G58M2cZR",
        "colab_type": "code",
        "outputId": "7767ea46-051e-4bb2-deec-837bc0a6a4a4",
        "colab": {
          "base_uri": "https://localhost:8080/",
          "height": 54
        }
      },
      "source": [
        "def factorial(n):\n",
        "  fact=1\n",
        "  for i in range(2,n+1):\n",
        "      fact *=i\n",
        "  return fact\n",
        "def digitfactsum(n):\n",
        "  sum=0\n",
        "  buffer=n\n",
        "  while n!=0:\n",
        "      r=n%10\n",
        "      sum+=factorial(r)\n",
        "      n=n//10\n",
        "  if sum==buffer:\n",
        "      return \"yes\"\n",
        "  else:\n",
        "      return \"no\"\n",
        "  return\n",
        "print(digitfactsum(145))\n",
        "print(digitfactsum(123))"
      ],
      "execution_count": 0,
      "outputs": [
        {
          "output_type": "stream",
          "text": [
            "yes\n",
            "no\n"
          ],
          "name": "stdout"
        }
      ]
    },
    {
      "cell_type": "code",
      "metadata": {
        "id": "QWfUt7s1Ap9R",
        "colab_type": "code",
        "outputId": "ffafd09e-4b4e-49af-824e-4734de35a05c",
        "colab": {
          "base_uri": "https://localhost:8080/",
          "height": 126
        }
      },
      "source": [
        "s1 = 'python'\n",
        "print(s1[0])\n",
        "print(s1[2])\n",
        "print(s1[0:2])\n",
        "print(s1[:2])\n",
        "print(s1[-3:])\n",
        "print(s1[2:])"
      ],
      "execution_count": 0,
      "outputs": [
        {
          "output_type": "stream",
          "text": [
            "p\n",
            "t\n",
            "py\n",
            "py\n",
            "hon\n",
            "thon\n"
          ],
          "name": "stdout"
        }
      ]
    },
    {
      "cell_type": "code",
      "metadata": {
        "id": "Q5TWTSOfxgeJ",
        "colab_type": "code",
        "outputId": "892336af-3448-4998-9fca-c594f3f0ca9c",
        "colab": {
          "base_uri": "https://localhost:8080/",
          "height": 35
        }
      },
      "source": [
        "def printUpper(x):\n",
        " for i in range(len(x)):\n",
        "   if ord(x[i]) >= 65 and ord(x[i]) <= 90:\n",
        "     print(x[i],end = \" \")\n",
        "     \n",
        " return\n",
        "printUpper(\"PyThon\")"
      ],
      "execution_count": 0,
      "outputs": [
        {
          "output_type": "stream",
          "text": [
            "P T "
          ],
          "name": "stdout"
        }
      ]
    },
    {
      "cell_type": "code",
      "metadata": {
        "id": "zy-J4DZd-fF6",
        "colab_type": "code",
        "outputId": "3718d7a3-c23f-4343-d72e-5e8154850b58",
        "colab": {
          "base_uri": "https://localhost:8080/",
          "height": 35
        }
      },
      "source": [
        "def sumOfDigits(str):\n",
        "   sum = 0\n",
        "   for x in range(len(str)):\n",
        "       if ord(str[x]) >= 48 and ord(str[x]) <= 57:\n",
        "           sum = sum + (ord(str[x])-48)\n",
        "   return sum\n",
        "sumOfDigits('Applicat8ion89') "
      ],
      "execution_count": 0,
      "outputs": [
        {
          "output_type": "execute_result",
          "data": {
            "text/plain": [
              "25"
            ]
          },
          "metadata": {
            "tags": []
          },
          "execution_count": 16
        }
      ]
    },
    {
      "cell_type": "code",
      "metadata": {
        "id": "T-gCfUzUBBpJ",
        "colab_type": "code",
        "outputId": "fe8d9d00-5d93-443b-9301-b63e8555189c",
        "colab": {
          "base_uri": "https://localhost:8080/",
          "height": 35
        }
      },
      "source": [
        "def sumofEvenDigits(str):\n",
        "   sum = 0\n",
        "   for x in range(len(str)):\n",
        "      if ord (str[x]) >= 48 and ord(str[x]) <= 57:\n",
        "          if (ord(str[x])-48) % 2 == 0:\n",
        "              sum = sum + (ord(str[x])-48)\n",
        "   return sum\n",
        "sumofEvenDigits('Appli1cat8ion89')"
      ],
      "execution_count": 0,
      "outputs": [
        {
          "output_type": "execute_result",
          "data": {
            "text/plain": [
              "16"
            ]
          },
          "metadata": {
            "tags": []
          },
          "execution_count": 17
        }
      ]
    },
    {
      "cell_type": "code",
      "metadata": {
        "id": "p237Qt_8EbyO",
        "colab_type": "code",
        "colab": {
          "base_uri": "https://localhost:8080/",
          "height": 35
        },
        "outputId": "52d0dda9-7181-4ea0-d561-ea301942bd3a"
      },
      "source": [
        "def wordUpperCase(s):\n",
        "   spaceCnt = 0\n",
        "   for x in  range(len(s)):\n",
        "       if ord(s[x]) == 32:\n",
        "           spaceCnt += 1\n",
        "       if spaceCnt == 1:\n",
        "           if ord(s[x]) >= 65 and ord(s[x]) <= 90:\n",
        "               print(s[x],end=\" \")\n",
        "           elif ord(s[x]) >= 97 and ord(s[x]) <= 122:\n",
        "               print(chr(ord(s[x])-32),end=\" \")\n",
        "       if spaceCnt == 2:\n",
        "           break   \n",
        "       \n",
        "   return \n",
        "wordUpperCase('python Made Easy')  "
      ],
      "execution_count": 18,
      "outputs": [
        {
          "output_type": "stream",
          "text": [
            "M A D E "
          ],
          "name": "stdout"
        }
      ]
    }
  ]
}