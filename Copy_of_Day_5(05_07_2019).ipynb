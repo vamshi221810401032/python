{
  "nbformat": 4,
  "nbformat_minor": 0,
  "metadata": {
    "colab": {
      "name": "Copy_of_Day_5(05_07_2019).ipynb",
      "version": "0.3.2",
      "provenance": [],
      "collapsed_sections": [],
      "include_colab_link": true
    },
    "kernelspec": {
      "name": "python3",
      "display_name": "Python 3"
    }
  },
  "cells": [
    {
      "cell_type": "markdown",
      "metadata": {
        "id": "view-in-github",
        "colab_type": "text"
      },
      "source": [
        "<a href=\"https://colab.research.google.com/github/vamshi221810401032/python/blob/master/Copy_of_Day_5(05_07_2019).ipynb\" target=\"_parent\"><img src=\"https://colab.research.google.com/assets/colab-badge.svg\" alt=\"Open In Colab\"/></a>"
      ]
    },
    {
      "cell_type": "code",
      "metadata": {
        "id": "dDaPHGw6vf4L",
        "colab_type": "code",
        "colab": {}
      },
      "source": [
        "\n"
      ],
      "execution_count": 0,
      "outputs": []
    },
    {
      "cell_type": "code",
      "metadata": {
        "id": "KJIhlujiX8MQ",
        "colab_type": "code",
        "colab": {}
      },
      "source": [
        ""
      ],
      "execution_count": 0,
      "outputs": []
    },
    {
      "cell_type": "code",
      "metadata": {
        "id": "f7c92tYhYH_z",
        "colab_type": "code",
        "colab": {}
      },
      "source": [
        ""
      ],
      "execution_count": 0,
      "outputs": []
    },
    {
      "cell_type": "markdown",
      "metadata": {
        "id": "GhcqIeWLzPIH",
        "colab_type": "text"
      },
      "source": [
        "# Markdown Basics\n",
        "## Markdown Basics\n",
        "### Markdown Basics\n",
        "#### Markdown Basics\n",
        "##### Markdown Basics\n",
        "\n",
        "\n",
        "* ***point3*** (Bold and Italic)\n",
        "\n",
        "* Normal Text\n",
        "*Sublist 1\n",
        "*Sublist 2\n",
        "\n",
        "\n",
        "> 1. Point1\n",
        "> 2. Pont2\n",
        "\n",
        "* ***Adding Links to Markdown***\n",
        "* Google site -- .[1].: http://www.google.com\n",
        "* msn site      -- .[2].: http://www.msn.com\n",
        "* .[.].option 1\n",
        "*Google Site -- [Google].1\n",
        "\n",
        "\n"
      ]
    },
    {
      "cell_type": "code",
      "metadata": {
        "id": "RnxnhvZR4TCf",
        "colab_type": "code",
        "outputId": "c8351faf-0760-45c5-c8c1-a9c27c1ebc6f",
        "colab": {
          "base_uri": "https://localhost:8080/",
          "height": 34
        }
      },
      "source": [
        "print(\"Hello World\")\n",
        "\n",
        "       "
      ],
      "execution_count": 0,
      "outputs": [
        {
          "output_type": "stream",
          "text": [
            "Hello World\n"
          ],
          "name": "stdout"
        }
      ]
    },
    {
      "cell_type": "code",
      "metadata": {
        "id": "zVaXLazS30lL",
        "colab_type": "code",
        "outputId": "a1d2f7c8-7b2b-4430-d3a5-5770526746ab",
        "colab": {
          "base_uri": "https://localhost:8080/",
          "height": 67
        }
      },
      "source": [
        "print(\"Hello Gitam\")\n",
        "print(\"this is Godkroton\")\n",
        "print(\"hyderabad\")"
      ],
      "execution_count": 0,
      "outputs": [
        {
          "output_type": "stream",
          "text": [
            "Hello Gitam\n",
            "this is Godkroton\n",
            "hyderabad\n"
          ],
          "name": "stdout"
        }
      ]
    },
    {
      "cell_type": "code",
      "metadata": {
        "id": "eo8j0j1a5WuW",
        "colab_type": "code",
        "outputId": "bc7058ef-c530-4ac3-bb22-dc983100b117",
        "colab": {
          "base_uri": "https://localhost:8080/",
          "height": 34
        }
      },
      "source": [
        "print(\"Hello, Gitam\",\" ||| \",end = \" \")\n",
        "print(\"Hyderabad\",end=\" ||| \")\n",
        "print(\"python programming\")"
      ],
      "execution_count": 0,
      "outputs": [
        {
          "output_type": "stream",
          "text": [
            "Hello, Gitam  |||  Hyderabad ||| python programming\n"
          ],
          "name": "stdout"
        }
      ]
    },
    {
      "cell_type": "code",
      "metadata": {
        "id": "l1J7fCZb6s3K",
        "colab_type": "code",
        "outputId": "4d3dc92f-4825-40c7-cc22-4a4a1b1f42a5",
        "colab": {
          "base_uri": "https://localhost:8080/",
          "height": 67
        }
      },
      "source": [
        "n1 = 100 # single Variable Assignment\n",
        "a = b = c = 20 # Multi variable Assignment of the same value\n",
        "a1,b1,c1 = 111,222,333 # Multi variable Assignment with different value\n",
        "print(n1)\n",
        "print(a,b,c)\n",
        "print(a1,b1,c1)\n",
        "    "
      ],
      "execution_count": 0,
      "outputs": [
        {
          "output_type": "stream",
          "text": [
            "100\n",
            "20 20 20\n",
            "111 222 333\n"
          ],
          "name": "stdout"
        }
      ]
    },
    {
      "cell_type": "code",
      "metadata": {
        "id": "QVcRqCwx8QBi",
        "colab_type": "code",
        "outputId": "b093382c-7aba-4992-fd16-0045b7a81b0b",
        "colab": {
          "base_uri": "https://localhost:8080/",
          "height": 50
        }
      },
      "source": [
        "a = 100;\n",
        "s1 = \"python\"\n",
        "s2 = 'p'\n",
        "f1 = 10.2\n",
        "print(a,s1,s2,f1)\n",
        "print(type(a),type(s1),type(s2),type(f1))"
      ],
      "execution_count": 0,
      "outputs": [
        {
          "output_type": "stream",
          "text": [
            "100 python p 10.2\n",
            "<class 'int'> <class 'str'> <class 'str'> <class 'float'>\n"
          ],
          "name": "stdout"
        }
      ]
    },
    {
      "cell_type": "code",
      "metadata": {
        "id": "7WaD-EhKTdh8",
        "colab_type": "code",
        "outputId": "9b9aa11e-ddea-4461-be84-cadb5df80248",
        "colab": {
          "base_uri": "https://localhost:8080/",
          "height": 34
        }
      },
      "source": [
        "# A number is given 1234\n",
        "# Digit count\n",
        "a1 = 1234\n",
        "print(len(str(a1)))"
      ],
      "execution_count": 0,
      "outputs": [
        {
          "output_type": "stream",
          "text": [
            "4\n"
          ],
          "name": "stdout"
        }
      ]
    },
    {
      "cell_type": "code",
      "metadata": {
        "id": "EeMDfnRJXGwK",
        "colab_type": "code",
        "outputId": "ec32d514-377a-4fc7-cc7b-d7e61c2a6f5b",
        "colab": {
          "base_uri": "https://localhost:8080/",
          "height": 67
        }
      },
      "source": [
        "s1 = input(\"Enter your name\")\n",
        "print(s1)\n",
        "print(type(s1))"
      ],
      "execution_count": 0,
      "outputs": [
        {
          "output_type": "stream",
          "text": [
            "Enter your nameSuhas\n",
            "Suhas\n",
            "<class 'str'>\n"
          ],
          "name": "stdout"
        }
      ]
    },
    {
      "cell_type": "code",
      "metadata": {
        "id": "ri7k8EeIYGkO",
        "colab_type": "code",
        "colab": {}
      },
      "source": [
        "n1 = int(input(\"Enter a number\"))\n",
        "print(n1)  "
      ],
      "execution_count": 0,
      "outputs": []
    },
    {
      "cell_type": "code",
      "metadata": {
        "id": "Vq7T6hPSe67T",
        "colab_type": "code",
        "outputId": "b5732ab1-1b25-4af7-d48a-76074d053067",
        "colab": {
          "base_uri": "https://localhost:8080/",
          "height": 50
        }
      },
      "source": [
        "i = 100\n",
        "a1 = (i > 15) and (i < 800)\n",
        "a2 = (i > 15) and (i > 800)\n",
        "print(a1)\n",
        "print(a2)"
      ],
      "execution_count": 0,
      "outputs": [
        {
          "output_type": "stream",
          "text": [
            "True\n",
            "False\n"
          ],
          "name": "stdout"
        }
      ]
    },
    {
      "cell_type": "code",
      "metadata": {
        "id": "TmWLcpROmDje",
        "colab_type": "code",
        "outputId": "80e3ab6e-c5fe-41ad-e91b-202e0e36be00",
        "colab": {
          "base_uri": "https://localhost:8080/",
          "height": 50
        }
      },
      "source": [
        "n = int(input(\"Enter a number\"))\n",
        "if n%2 == 0:\n",
        "    print(\"Even\")\n",
        "else:\n",
        "    print(\"Odd\")\n",
        "  \n",
        "  "
      ],
      "execution_count": 0,
      "outputs": [
        {
          "output_type": "stream",
          "text": [
            "Enter a number5\n",
            "Odd\n"
          ],
          "name": "stdout"
        }
      ]
    },
    {
      "cell_type": "code",
      "metadata": {
        "id": "HWreuOwknvAv",
        "colab_type": "code",
        "outputId": "b8a34a13-18c4-4625-ff51-9fea2bc13b3e",
        "colab": {
          "base_uri": "https://localhost:8080/",
          "height": 50
        }
      },
      "source": [
        "n = int(input(\"Enter a number\"))\n",
        "if n%3 == 0 and n%5 == 0:\n",
        "    print(\"Yes\")\n",
        "else:\n",
        "    print(\"No\")\n",
        "  "
      ],
      "execution_count": 0,
      "outputs": [
        {
          "output_type": "stream",
          "text": [
            "Enter a number10\n",
            "No\n"
          ],
          "name": "stdout"
        }
      ]
    },
    {
      "cell_type": "code",
      "metadata": {
        "id": "-VeHKquIoV-R",
        "colab_type": "code",
        "outputId": "2a908572-c400-4a39-9431-68a0ab14d686",
        "colab": {
          "base_uri": "https://localhost:8080/",
          "height": 50
        }
      },
      "source": [
        "n = int(input(\"Enter a number\"))\n",
        "if n == 0:\n",
        "    print(\"Zero\")\n",
        "elif n>0:\n",
        "    print(\"Positive Number\")\n",
        "elif n<0:\n",
        "    print(\"Negative Number\")"
      ],
      "execution_count": 0,
      "outputs": [
        {
          "output_type": "stream",
          "text": [
            "Enter a number5\n",
            "Positive Number\n"
          ],
          "name": "stdout"
        }
      ]
    },
    {
      "cell_type": "code",
      "metadata": {
        "id": "_WCaoFGE1SqM",
        "colab_type": "code",
        "outputId": "1e89fe3f-1844-4206-f854-cb5eef91c9dd",
        "colab": {
          "base_uri": "https://localhost:8080/",
          "height": 50
        }
      },
      "source": [
        "n = int(input(\"Enter the Year\"))\n",
        "if n%4 ==0:\n",
        "    print(\"Given year is a leap year\")\n",
        "else:\n",
        "    print(\"Given year is not a leap year\")"
      ],
      "execution_count": 0,
      "outputs": [
        {
          "output_type": "stream",
          "text": [
            "Enter the Year2000\n",
            "Given year is a leap year\n"
          ],
          "name": "stdout"
        }
      ]
    },
    {
      "cell_type": "code",
      "metadata": {
        "id": "SE_ADi043gJC",
        "colab_type": "code",
        "outputId": "c60f807f-d4e2-491f-b988-067ae90ff3aa",
        "colab": {
          "base_uri": "https://localhost:8080/",
          "height": 101
        }
      },
      "source": [
        "a = int(input(\"Enter triangle side\"))\n",
        "b = int(input(\"Enter triangle side\"))\n",
        "c = int(input(\"Enter triangle side\"))\n",
        "print(\"Enter the side of the triangle \")\n",
        "if a + b >= c and a + c >= b and b + c >= a:\n",
        "    print(\"triangle is valid\")\n",
        "else:\n",
        "    print(\"triangle is not valid\")\n",
        "              "
      ],
      "execution_count": 0,
      "outputs": [
        {
          "output_type": "stream",
          "text": [
            "Enter triangle side3\n",
            "Enter triangle side2\n",
            "Enter triangle side5\n",
            "Enter the side of the triangle \n",
            "triangle is valid\n"
          ],
          "name": "stdout"
        }
      ]
    },
    {
      "cell_type": "code",
      "metadata": {
        "id": "Qqk9oquT6D2t",
        "colab_type": "code",
        "outputId": "2f926dcd-0a58-4312-eca8-e471dc479de7",
        "colab": {
          "base_uri": "https://localhost:8080/",
          "height": 50
        }
      },
      "source": [
        "n = int(input(\"Enter celsius\"))\n",
        "f = (a - 32) / 180\n",
        "print(f)"
      ],
      "execution_count": 0,
      "outputs": [
        {
          "output_type": "stream",
          "text": [
            "Enter celsius3\n",
            "-0.16111111111111112\n"
          ],
          "name": "stdout"
        }
      ]
    },
    {
      "cell_type": "code",
      "metadata": {
        "id": "H7LUt4f18VJS",
        "colab_type": "code",
        "outputId": "a68f41f5-cd3e-455e-ad98-2525a0e6adcc",
        "colab": {
          "base_uri": "https://localhost:8080/",
          "height": 84
        }
      },
      "source": [
        "a = int(input(\"Enter a\"))\n",
        "b = int(input(\"Enter b\"))\n",
        "c = int(input(\"Enter c\"))\n",
        "if a > b and a > c:\n",
        "    print(\"a is largest\")\n",
        "elif b > c and b > c:\n",
        "    print(\"b is largest\")\n",
        "elif c > a and c > a:\n",
        "    print(\"c is largest\")"
      ],
      "execution_count": 0,
      "outputs": [
        {
          "output_type": "stream",
          "text": [
            "Enter a1\n",
            "Enter b2\n",
            "Enter c3\n",
            "c is largest\n"
          ],
          "name": "stdout"
        }
      ]
    },
    {
      "cell_type": "code",
      "metadata": {
        "id": "e-d9G-jg-YzZ",
        "colab_type": "code",
        "outputId": "5feec702-5397-42fc-e457-3e066d90a6e7",
        "colab": {
          "base_uri": "https://localhost:8080/",
          "height": 50
        }
      },
      "source": [
        "a = int(input(\"Enter a\"))\n",
        "if a == 1:\n",
        "    print(\"Monday\")\n",
        "elif a == 2:\n",
        "    print(\"Tuesday\")\n",
        "elif a == 3:\n",
        "    print(\"Wednesday\")\n",
        "elif a == 4:\n",
        "    print(\"Thursday\")\n",
        "elif a == 5:\n",
        "    print(\"Friday\")\n",
        "elif a == 6:\n",
        "    print(\"Saturday\")\n",
        "elif a == 7:\n",
        "    print(\"Sunday\")\n"
      ],
      "execution_count": 0,
      "outputs": [
        {
          "output_type": "stream",
          "text": [
            "Enter a3\n",
            "Wednesday\n"
          ],
          "name": "stdout"
        }
      ]
    }
  ]
}